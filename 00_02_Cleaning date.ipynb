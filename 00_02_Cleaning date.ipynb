{
 "cells": [
  {
   "cell_type": "code",
   "execution_count": 15,
   "id": "aff8e57e-cf45-413b-919e-1e5725e96323",
   "metadata": {},
   "outputs": [
    {
     "name": "stdout",
     "output_type": "stream",
     "text": [
      "      START_LOAD_DATE END_LOAD_DATE START_DELIVERY_DATE END_DELIVERY_DATE\n",
      "9291       2022-12-15    2022-12-15          2022-12-15        2022-12-15\n",
      "29481      2023-08-30    2023-08-30          2023-08-30        2023-08-30\n",
      "252        2020-06-22    2020-06-22          2020-06-23        2020-06-23\n",
      "28309      2023-08-18    2023-08-18          2023-08-21        2023-08-21\n",
      "13721      2023-02-21    2023-02-21          2023-02-22        2023-02-22\n",
      "21939      2023-05-31    2023-05-31          2023-05-31        2023-05-31\n",
      "23000      2023-06-10    2023-06-10          2023-06-11        2023-06-11\n",
      "25839      2023-07-11    2023-07-11          2023-07-12        2023-07-12\n",
      "6527       2022-11-04    2022-11-04          2022-11-07        2022-11-07\n",
      "43347      2024-02-07    2024-02-07          2024-02-08        2024-02-08\n",
      "988        2021-03-12    2021-03-12          2021-03-15        2021-03-15\n",
      "31874      2023-09-29    2023-09-29          2023-10-02        2023-10-02\n",
      "38548      2023-12-08    2023-12-08          2023-12-11        2023-12-11\n",
      "25147      2023-07-02    2023-07-02          2023-07-03        2023-07-03\n",
      "21865      2023-05-30    2023-05-30          2023-05-30        2023-05-30\n",
      "1920       2021-09-23    2021-09-23          2021-09-24        2021-09-24\n",
      "6649       2022-11-07    2022-11-07          2022-11-08        2022-11-08\n",
      "22352      2023-06-05    2023-06-05          2023-06-06        2023-06-06\n",
      "25942      2023-07-11    2023-07-11          2023-07-12        2023-07-12\n",
      "30609      2023-09-13    2023-09-13          2023-09-14        2023-09-14\n",
      "35037      2023-11-03    2023-11-03          2023-11-03        2023-11-03\n",
      "31564      2023-09-25    2023-09-25          2023-09-26        2023-09-26\n",
      "27163      2023-08-04    2023-08-04          2023-08-07        2023-08-07\n",
      "2175       2021-12-08    2021-12-08          2021-12-09        2021-12-09\n",
      "21974      2023-05-31    2023-05-31          2023-05-31        2023-05-31\n",
      "17049      2023-03-31    2023-03-31          2023-04-03        2023-04-03\n",
      "41477      2024-01-18    2024-01-18          2024-01-18        2024-01-18\n",
      "25821      2023-07-10    2023-07-10          2023-07-10        2023-07-10\n",
      "6726       2022-11-08    2022-11-08          2022-11-09        2022-11-09\n",
      "41363      2024-01-18    2024-01-18          2024-01-19        2024-01-19\n"
     ]
    }
   ],
   "source": [
    "# 1. Import core libraries\n",
    "import pandas as pd\n",
    "from pathlib import Path\n",
    "\n",
    "# 2. Define the path to the Excel file\n",
    "DATA_PATH = Path(\"data_train.xlsx\")  # relative path\n",
    "\n",
    "# 3. Load the Excel file into a DataFrame\n",
    "df = pd.read_excel(DATA_PATH)\n",
    "\n",
    "# 4. Define the list of columns to standardize (only dates, without time)\n",
    "date_cols = ['END_LOAD_DATE', 'START_DELIVERY_DATE', 'END_DELIVERY_DATE']\n",
    "\n",
    "# 5. Convert values in specified columns to date format (without time)\n",
    "for col in date_cols:\n",
    "    df[col] = pd.to_datetime(df[col], errors='coerce').dt.date\n",
    "\n",
    "# 6. Ensure that START_LOAD_DATE is also properly formatted (date only)\n",
    "df['START_LOAD_DATE'] = pd.to_datetime(df['START_LOAD_DATE'], errors='coerce').dt.date\n",
    "\n",
    "# 7. Display 30 random samples to verify the results\n",
    "print(df[[\"START_LOAD_DATE\", \"END_LOAD_DATE\", \"START_DELIVERY_DATE\", \"END_DELIVERY_DATE\"]].sample(30))"
   ]
  },
  {
   "cell_type": "code",
   "execution_count": null,
   "id": "8f8ac86c-7eab-456b-8bff-be5ef625ef77",
   "metadata": {},
   "outputs": [],
   "source": [
    "# Save the cleaned data to CSV\n",
    "df.to_csv(\"cleaned_data.csv\", index=False)"
   ]
  }
 ],
 "metadata": {
  "kernelspec": {
   "display_name": "Python [conda env:base] *",
   "language": "python",
   "name": "conda-base-py"
  },
  "language_info": {
   "codemirror_mode": {
    "name": "ipython",
    "version": 3
   },
   "file_extension": ".py",
   "mimetype": "text/x-python",
   "name": "python",
   "nbconvert_exporter": "python",
   "pygments_lexer": "ipython3",
   "version": "3.12.7"
  }
 },
 "nbformat": 4,
 "nbformat_minor": 5
}
